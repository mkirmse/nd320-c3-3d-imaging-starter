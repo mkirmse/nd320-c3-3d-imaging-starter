{
 "cells": [
  {
   "cell_type": "markdown",
   "metadata": {},
   "source": [
    "# Preparing the dataset for hippocampus segmentation\n",
    "\n",
    "In this notebook you will use the skills and methods that we have talked about during our EDA Lesson to prepare the hippocampus dataset using Python. Follow the Notebook, writing snippets of code where directed so using Task comments, similar to the one below, which expects you to put the proper imports in place. Write your code directly in the cell with TASK comment. Feel free to add cells as you see fit, but please make sure that code that performs that tasked activity sits in the same cell as the Task comment.\n"
   ]
  },
  {
   "cell_type": "code",
   "execution_count": 1,
   "metadata": {},
   "outputs": [],
   "source": [
    "# TASK: Import the following libraries that we will use: nibabel, matplotlib, numpy\n",
    "import nibabel as nib\n",
    "import matplotlib.pyplot as plt\n",
    "import numpy as np\n",
    "\n",
    "import os\n",
    "from os import listdir\n",
    "from os.path import isfile, join\n",
    "\n",
    "from collections import Counter\n",
    "\n",
    "import shutil"
   ]
  },
  {
   "cell_type": "markdown",
   "metadata": {},
   "source": [
    "It will help your understanding of the data a lot if you were able to use a tool that allows you to view NIFTI volumes, like [3D Slicer](https://www.slicer.org/). I will refer to Slicer throughout this Notebook and will be pasting some images showing what your output might look like."
   ]
  },
  {
   "cell_type": "markdown",
   "metadata": {},
   "source": [
    "## Loading NIFTI images using NiBabel\n",
    "\n",
    "NiBabel is a python library for working with neuro-imaging formats (including NIFTI) that we have used in some of the exercises throughout the course. Our volumes and labels are in NIFTI format, so we will use nibabel to load and inspect them.\n",
    "\n",
    "NiBabel documentation could be found here: https://nipy.org/nibabel/\n",
    "\n",
    "Our dataset sits in two directories - *images* and *labels*. Each image is represented by a single file (we are fortunate to have our data converted to NIFTI) and has a corresponding label file which is named the same as the image file.\n",
    "\n",
    "Note that our dataset is \"dirty\". There are a few images and labels that are not quite right. They should be quite obvious to notice, though. The dataset contains an equal amount of \"correct\" volumes and corresponding labels, and you don't need to alter values of any samples in order to get the clean dataset."
   ]
  },
  {
   "cell_type": "code",
   "execution_count": 2,
   "metadata": {},
   "outputs": [
    {
     "data": {
      "text/plain": [
       "262"
      ]
     },
     "execution_count": 2,
     "metadata": {},
     "output_type": "execute_result"
    }
   ],
   "source": [
    "label_path = '../data/TrainingSet/labels/'\n",
    "label_files = {f for f in listdir(label_path) if isfile(join(label_path, f)) and 'hippocampus' in f}\n",
    "len(label_files)"
   ]
  },
  {
   "cell_type": "code",
   "execution_count": 3,
   "metadata": {},
   "outputs": [
    {
     "data": {
      "text/plain": [
       "263"
      ]
     },
     "execution_count": 3,
     "metadata": {},
     "output_type": "execute_result"
    }
   ],
   "source": [
    "image_path = '../data/TrainingSet/images/'\n",
    "image_files = {f for f in listdir(image_path) if isfile(join(image_path, f)) and 'hippocampus' in f}\n",
    "len(image_files)"
   ]
  },
  {
   "cell_type": "markdown",
   "metadata": {},
   "source": [
    "There seems to be one image without label"
   ]
  },
  {
   "cell_type": "code",
   "execution_count": 4,
   "metadata": {},
   "outputs": [
    {
     "data": {
      "text/plain": [
       "262"
      ]
     },
     "execution_count": 4,
     "metadata": {},
     "output_type": "execute_result"
    }
   ],
   "source": [
    "inter = image_files & label_files\n",
    "len(inter)"
   ]
  },
  {
   "cell_type": "code",
   "execution_count": 5,
   "metadata": {},
   "outputs": [],
   "source": [
    "# only images with label\n",
    "combined = [(nib.load(join(image_path, f)), (nib.load(join(label_path, f))), f) for f in inter]"
   ]
  },
  {
   "cell_type": "code",
   "execution_count": 6,
   "metadata": {},
   "outputs": [],
   "source": [
    "# TASK: Your data sits in directory /data/TrainingSet.\n",
    "# Load an image and a segmentation mask into variables called image and label\n",
    "image = combined[0][0]\n",
    "label = combined[0][1]\n"
   ]
  },
  {
   "cell_type": "code",
   "execution_count": 7,
   "metadata": {},
   "outputs": [
    {
     "name": "stdout",
     "output_type": "stream",
     "text": [
      "Image shape: (34, 51, 38)\n",
      "Label shape: (34, 51, 38)\n"
     ]
    }
   ],
   "source": [
    "# Nibabel can present your image data as a Numpy array by calling the method get_fdata()\n",
    "# The array will contain a multi-dimensional Numpy array with numerical values representing voxel intensities. \n",
    "# In our case, images and labels are 3-dimensional, so get_fdata will return a 3-dimensional array. You can verify this\n",
    "# by accessing the .shape attribute. What are the dimensions of the input arrays?\n",
    "\n",
    "# TASK: using matplotlib, visualize a few slices from the dataset, along with their labels. \n",
    "# You can adjust plot sizes like so if you find them too small:\n",
    "# plt.rcParams[\"figure.figsize\"] = (10,10)\n",
    "image_data = image.get_fdata()\n",
    "label_data = label.get_fdata()\n",
    "\n",
    "print(f\"Image shape: {image_data.shape}\")\n",
    "print(f\"Label shape: {label_data.shape}\")"
   ]
  },
  {
   "cell_type": "code",
   "execution_count": 8,
   "metadata": {},
   "outputs": [],
   "source": [
    "# get dimensions for all lables and images\n",
    "combined_shape = [(image.shape,label.shape, path) for image, label, path in combined]"
   ]
  },
  {
   "cell_type": "code",
   "execution_count": 9,
   "metadata": {
    "scrolled": true
   },
   "outputs": [
    {
     "name": "stdout",
     "output_type": "stream",
     "text": [
      "Counter({(35, 51, 36): 3, (37, 51, 33): 3, (35, 51, 35): 3, (35, 49, 40): 2, (36, 52, 32): 2, (34, 49, 37): 2, (35, 52, 33): 2, (34, 48, 40): 2, (37, 51, 35): 2, (34, 53, 37): 2, (35, 50, 36): 2, (35, 52, 34): 2, (32, 54, 34): 2, (36, 53, 37): 2, (35, 49, 33): 2, (37, 48, 34): 2, (35, 46, 42): 2, (36, 51, 35): 2, (38, 52, 33): 2, (32, 47, 41): 2, (38, 51, 37): 2, (34, 51, 38): 1, (37, 47, 42): 1, (33, 44, 41): 1, (33, 51, 32): 1, (38, 50, 42): 1, (36, 57, 37): 1, (34, 47, 43): 1, (33, 55, 29): 1, (37, 45, 39): 1, (36, 46, 43): 1, (39, 44, 43): 1, (35, 48, 40): 1, (34, 52, 40): 1, (38, 49, 28): 1, (38, 52, 36): 1, (36, 42, 41): 1, (35, 53, 35): 1, (36, 51, 37): 1, (33, 52, 37): 1, (35, 55, 41): 1, (32, 45, 38): 1, (37, 49, 34): 1, (33, 51, 28): 1, (34, 53, 36): 1, (37, 55, 34): 1, (35, 50, 34): 1, (35, 49, 36): 1, (35, 40, 40): 1, (34, 50, 32): 1, (34, 49, 41): 1, (33, 48, 38): 1, (37, 57, 35): 1, (33, 48, 34): 1, (38, 54, 30): 1, (35, 53, 39): 1, (36, 50, 31): 1, (35, 55, 34): 1, (34, 48, 32): 1, (33, 47, 42): 1, (37, 53, 33): 1, (37, 52, 30): 1, (36, 47, 39): 1, (35, 52, 37): 1, (33, 53, 28): 1, (34, 49, 29): 1, (36, 51, 29): 1, (34, 49, 32): 1, (38, 52, 35): 1, (37, 58, 35): 1, (38, 51, 31): 1, (36, 52, 36): 1, (32, 49, 36): 1, (34, 51, 33): 1, (34, 51, 26): 1, (34, 56, 31): 1, (35, 53, 32): 1, (34, 49, 39): 1, (32, 46, 42): 1, (31, 54, 34): 1, (33, 51, 34): 1, (32, 51, 31): 1, (34, 53, 32): 1, (39, 45, 40): 1, (33, 52, 27): 1, (36, 50, 34): 1, (35, 56, 34): 1, (34, 47, 36): 1, (32, 48, 34): 1, (32, 49, 30): 1, (33, 44, 40): 1, (37, 52, 26): 1, (34, 51, 32): 1, (35, 50, 30): 1, (35, 54, 35): 1, (36, 51, 32): 1, (35, 49, 37): 1, (36, 50, 33): 1, (37, 48, 36): 1, (34, 49, 35): 1, (33, 59, 29): 1, (35, 44, 44): 1, (37, 50, 40): 1, (34, 51, 30): 1, (35, 48, 35): 1, (37, 45, 40): 1, (34, 46, 34): 1, (36, 40, 43): 1, (34, 46, 38): 1, (38, 53, 30): 1, (38, 49, 38): 1, (36, 47, 44): 1, (36, 50, 32): 1, (34, 53, 24): 1, (34, 45, 43): 1, (38, 48, 33): 1, (35, 55, 32): 1, (33, 49, 40): 1, (33, 49, 32): 1, (32, 53, 38): 1, (33, 50, 29): 1, (32, 47, 32): 1, (38, 43, 41): 1, (43, 42, 39): 1, (34, 50, 34): 1, (33, 47, 37): 1, (39, 52, 31): 1, (36, 48, 39): 1, (37, 43, 43): 1, (36, 52, 38): 1, (35, 55, 37): 1, (34, 52, 35): 1, (36, 49, 40): 1, (36, 58, 33): 1, (35, 48, 32): 1, (34, 53, 35): 1, (36, 49, 38): 1, (36, 49, 31): 1, (37, 50, 33): 1, (35, 48, 38): 1, (34, 53, 34): 1, (38, 51, 33): 1, (37, 48, 37): 1, (34, 49, 38): 1, (39, 52, 37): 1, (38, 50, 39): 1, (512, 512, 241): 1, (37, 45, 46): 1, (39, 50, 40): 1, (41, 48, 47): 1, (36, 51, 34): 1, (35, 51, 40): 1, (37, 47, 32): 1, (34, 49, 30): 1, (34, 47, 40): 1, (34, 52, 37): 1, (33, 46, 38): 1, (35, 46, 39): 1, (36, 54, 27): 1, (36, 55, 32): 1, (33, 53, 26): 1, (38, 51, 35): 1, (33, 47, 38): 1, (31, 50, 36): 1, (35, 52, 38): 1, (35, 50, 33): 1, (35, 51, 34): 1, (38, 52, 29): 1, (32, 52, 34): 1, (37, 49, 37): 1, (36, 51, 31): 1, (41, 47, 42): 1, (512, 512, 31): 1, (37, 54, 36): 1, (38, 48, 39): 1, (38, 55, 40): 1, (33, 54, 39): 1, (37, 52, 34): 1, (35, 49, 34): 1, (36, 48, 38): 1, (35, 53, 33): 1, (32, 49, 38): 1, (37, 47, 34): 1, (37, 45, 36): 1, (36, 49, 36): 1, (37, 56, 36): 1, (38, 55, 31): 1, (37, 50, 39): 1, (34, 51, 37): 1, (32, 45, 41): 1, (33, 51, 37): 1, (37, 50, 38): 1, (33, 44, 42): 1, (33, 47, 34): 1, (42, 51, 28): 1, (35, 53, 36): 1, (38, 52, 34): 1, (35, 55, 33): 1, (36, 53, 33): 1, (36, 58, 28): 1, (38, 53, 27): 1, (34, 49, 36): 1, (36, 50, 38): 1, (34, 48, 35): 1, (36, 48, 40): 1, (36, 47, 41): 1, (35, 49, 35): 1, (36, 50, 40): 1, (35, 53, 30): 1, (40, 52, 35): 1, (36, 44, 43): 1, (33, 50, 35): 1, (35, 48, 42): 1, (35, 44, 41): 1, (37, 55, 26): 1, (36, 49, 41): 1, (34, 47, 39): 1, (33, 47, 35): 1, (36, 47, 36): 1, (37, 52, 32): 1, (38, 47, 37): 1, (38, 48, 40): 1, (35, 56, 28): 1, (32, 51, 28): 1, (35, 46, 38): 1, (35, 47, 45): 1, (35, 53, 29): 1, (36, 50, 36): 1, (39, 41, 42): 1, (33, 49, 37): 1, (36, 48, 37): 1, (34, 52, 38): 1, (34, 51, 31): 1, (38, 49, 36): 1, (36, 52, 37): 1, (35, 47, 37): 1, (36, 45, 39): 1, (38, 50, 38): 1})\n"
     ]
    }
   ],
   "source": [
    "# image shapes\n",
    "# there are a lot of slightly different shapes - probably due to the cropping\n",
    "# and two outliers with (512,512)\n",
    "counter = Counter([imsh for imsh, _, _ in combined_shape])\n",
    "print(counter)"
   ]
  },
  {
   "cell_type": "code",
   "execution_count": 10,
   "metadata": {},
   "outputs": [
    {
     "name": "stdout",
     "output_type": "stream",
     "text": [
      "Counter({(35, 51, 36): 3, (37, 51, 33): 3, (35, 51, 35): 3, (35, 49, 40): 2, (36, 52, 32): 2, (34, 49, 37): 2, (35, 52, 33): 2, (36, 50, 31): 2, (34, 48, 40): 2, (37, 51, 35): 2, (34, 53, 37): 2, (35, 50, 36): 2, (35, 52, 34): 2, (32, 54, 34): 2, (36, 53, 37): 2, (35, 49, 33): 2, (37, 48, 34): 2, (35, 46, 42): 2, (36, 51, 35): 2, (38, 52, 33): 2, (32, 47, 41): 2, (38, 51, 37): 2, (34, 51, 38): 1, (37, 47, 42): 1, (33, 44, 41): 1, (33, 51, 32): 1, (38, 50, 42): 1, (36, 57, 37): 1, (34, 47, 43): 1, (33, 55, 29): 1, (37, 45, 39): 1, (36, 46, 43): 1, (39, 44, 43): 1, (35, 48, 40): 1, (34, 52, 40): 1, (38, 49, 28): 1, (38, 52, 36): 1, (36, 42, 41): 1, (35, 53, 35): 1, (36, 51, 37): 1, (33, 52, 37): 1, (35, 55, 41): 1, (32, 45, 38): 1, (37, 49, 34): 1, (33, 51, 28): 1, (34, 53, 36): 1, (37, 55, 34): 1, (35, 50, 34): 1, (35, 49, 36): 1, (35, 40, 40): 1, (34, 50, 32): 1, (34, 49, 41): 1, (33, 48, 38): 1, (37, 57, 35): 1, (33, 48, 34): 1, (38, 54, 30): 1, (35, 53, 39): 1, (35, 55, 34): 1, (34, 48, 32): 1, (33, 47, 42): 1, (37, 53, 33): 1, (37, 52, 30): 1, (36, 47, 39): 1, (35, 52, 37): 1, (33, 53, 28): 1, (34, 49, 29): 1, (36, 51, 29): 1, (34, 49, 32): 1, (38, 52, 35): 1, (37, 58, 35): 1, (38, 51, 31): 1, (36, 52, 36): 1, (32, 49, 36): 1, (34, 51, 33): 1, (34, 51, 26): 1, (34, 56, 31): 1, (35, 53, 32): 1, (34, 49, 39): 1, (32, 46, 42): 1, (31, 54, 34): 1, (33, 51, 34): 1, (32, 51, 31): 1, (34, 53, 32): 1, (39, 45, 40): 1, (33, 52, 27): 1, (36, 50, 34): 1, (35, 56, 34): 1, (34, 47, 36): 1, (32, 48, 34): 1, (32, 49, 30): 1, (33, 44, 40): 1, (37, 52, 26): 1, (34, 51, 32): 1, (35, 50, 30): 1, (35, 54, 35): 1, (36, 51, 32): 1, (35, 49, 37): 1, (36, 50, 33): 1, (37, 48, 36): 1, (34, 49, 35): 1, (33, 59, 29): 1, (35, 44, 44): 1, (37, 50, 40): 1, (34, 51, 30): 1, (35, 48, 35): 1, (37, 45, 40): 1, (34, 46, 34): 1, (36, 40, 43): 1, (34, 46, 38): 1, (38, 53, 30): 1, (38, 49, 38): 1, (36, 47, 44): 1, (36, 50, 32): 1, (34, 53, 24): 1, (34, 45, 43): 1, (38, 48, 33): 1, (35, 55, 32): 1, (33, 49, 40): 1, (33, 49, 32): 1, (32, 53, 38): 1, (33, 50, 29): 1, (32, 47, 32): 1, (38, 43, 41): 1, (43, 42, 39): 1, (34, 50, 34): 1, (33, 47, 37): 1, (39, 52, 31): 1, (36, 48, 39): 1, (37, 43, 43): 1, (36, 52, 38): 1, (35, 55, 37): 1, (34, 52, 35): 1, (36, 49, 40): 1, (36, 58, 33): 1, (35, 48, 32): 1, (34, 53, 35): 1, (36, 49, 38): 1, (36, 49, 31): 1, (37, 50, 33): 1, (35, 48, 38): 1, (34, 53, 34): 1, (38, 51, 33): 1, (37, 48, 37): 1, (34, 49, 38): 1, (39, 52, 37): 1, (38, 50, 39): 1, (37, 45, 46): 1, (39, 50, 40): 1, (41, 48, 47): 1, (36, 51, 34): 1, (35, 51, 40): 1, (37, 47, 32): 1, (34, 49, 30): 1, (34, 47, 40): 1, (34, 52, 37): 1, (33, 46, 38): 1, (35, 46, 39): 1, (36, 54, 27): 1, (36, 55, 32): 1, (33, 53, 26): 1, (38, 51, 35): 1, (33, 47, 38): 1, (31, 50, 36): 1, (35, 52, 38): 1, (35, 50, 33): 1, (35, 51, 34): 1, (38, 52, 29): 1, (32, 52, 34): 1, (37, 49, 37): 1, (36, 51, 31): 1, (41, 47, 42): 1, (512, 512, 94): 1, (37, 54, 36): 1, (38, 48, 39): 1, (38, 55, 40): 1, (33, 54, 39): 1, (37, 52, 34): 1, (35, 49, 34): 1, (36, 48, 38): 1, (35, 53, 33): 1, (32, 49, 38): 1, (37, 47, 34): 1, (37, 45, 36): 1, (36, 49, 36): 1, (37, 56, 36): 1, (38, 55, 31): 1, (37, 50, 39): 1, (34, 51, 37): 1, (32, 45, 41): 1, (33, 51, 37): 1, (37, 50, 38): 1, (33, 44, 42): 1, (33, 47, 34): 1, (42, 51, 28): 1, (35, 53, 36): 1, (38, 52, 34): 1, (35, 55, 33): 1, (36, 53, 33): 1, (36, 58, 28): 1, (38, 53, 27): 1, (34, 49, 36): 1, (36, 50, 38): 1, (34, 48, 35): 1, (36, 48, 40): 1, (36, 47, 41): 1, (35, 49, 35): 1, (36, 50, 40): 1, (35, 53, 30): 1, (40, 52, 35): 1, (36, 44, 43): 1, (33, 50, 35): 1, (35, 48, 42): 1, (35, 44, 41): 1, (37, 55, 26): 1, (36, 49, 41): 1, (34, 47, 39): 1, (33, 47, 35): 1, (36, 47, 36): 1, (37, 52, 32): 1, (38, 47, 37): 1, (38, 48, 40): 1, (35, 56, 28): 1, (32, 51, 28): 1, (35, 46, 38): 1, (35, 47, 45): 1, (35, 53, 29): 1, (36, 50, 36): 1, (39, 41, 42): 1, (33, 49, 37): 1, (36, 48, 37): 1, (34, 52, 38): 1, (34, 51, 31): 1, (38, 49, 36): 1, (36, 52, 37): 1, (35, 47, 37): 1, (36, 45, 39): 1, (38, 50, 38): 1})\n"
     ]
    }
   ],
   "source": [
    "# label shapes - same here\n",
    "counter = Counter([lbsh for _, lbsh, _ in combined_shape])\n",
    "print(counter)"
   ]
  },
  {
   "cell_type": "code",
   "execution_count": 11,
   "metadata": {},
   "outputs": [
    {
     "data": {
      "text/plain": [
       "<matplotlib.image.AxesImage at 0x7f98050545e0>"
      ]
     },
     "execution_count": 11,
     "metadata": {},
     "output_type": "execute_result"
    },
    {
     "data": {
      "image/png": "[encoded data removed]",
      "text/plain": [
       "<Figure size 432x288 with 1 Axes>"
      ]
     },
     "metadata": {
      "needs_background": "light"
     },
     "output_type": "display_data"
    },
    {
     "data": {
      "image/png": "[encoded data removed]",
      "text/plain": [
       "<Figure size 432x288 with 1 Axes>"
      ]
     },
     "metadata": {
      "needs_background": "light"
     },
     "output_type": "display_data"
    },
    {
     "data": {
      "image/png": "[encoded data removed]",
      "text/plain": [
       "<Figure size 432x288 with 1 Axes>"
      ]
     },
     "metadata": {
      "needs_background": "light"
     },
     "output_type": "display_data"
    }
   ],
   "source": [
    "# show example image from different axes\n",
    "slice_index = 20\n",
    "plt.imshow(image_data[slice_index,:,:], cmap=\"gray\")\n",
    "plt.figure()\n",
    "plt.imshow(image_data[:,slice_index,:], cmap=\"gray\")\n",
    "plt.figure()\n",
    "plt.imshow(image_data[:,:,slice_index], cmap=\"gray\")"
   ]
  },
  {
   "cell_type": "code",
   "execution_count": 12,
   "metadata": {},
   "outputs": [
    {
     "data": {
      "text/plain": [
       "<matplotlib.image.AxesImage at 0x7f9804ee8c40>"
      ]
     },
     "execution_count": 12,
     "metadata": {},
     "output_type": "execute_result"
    },
    {
     "data": {
      "image/png": "[encoded data removed]",
      "text/plain": [
       "<Figure size 432x288 with 1 Axes>"
      ]
     },
     "metadata": {
      "needs_background": "light"
     },
     "output_type": "display_data"
    },
    {
     "data": {
      "image/png": "[encoded data removed]",
      "text/plain": [
       "<Figure size 432x288 with 1 Axes>"
      ]
     },
     "metadata": {
      "needs_background": "light"
     },
     "output_type": "display_data"
    },
    {
     "data": {
      "image/png": "[encoded data removed]",
      "text/plain": [
       "<Figure size 432x288 with 1 Axes>"
      ]
     },
     "metadata": {
      "needs_background": "light"
     },
     "output_type": "display_data"
    }
   ],
   "source": [
    "plt.imshow(label_data[slice_index,:,:], cmap=\"gray\")\n",
    "plt.figure()\n",
    "plt.imshow(label_data[:,slice_index,:], cmap=\"gray\")\n",
    "plt.figure()\n",
    "plt.imshow(label_data[:,:,slice_index], cmap=\"gray\")"
   ]
  },
  {
   "cell_type": "code",
   "execution_count": 13,
   "metadata": {},
   "outputs": [],
   "source": [
    "# understand, white and grey are the two labels the hypocampus is divided into "
   ]
  },
  {
   "cell_type": "code",
   "execution_count": 14,
   "metadata": {},
   "outputs": [
    {
     "name": "stdout",
     "output_type": "stream",
     "text": [
      "2016.725341796875\n",
      "0.0\n"
     ]
    }
   ],
   "source": [
    "print(image_data.max())\n",
    "print(image_data.min())\n",
    "# they are already in a specific range - windowing probably not necessary  "
   ]
  },
  {
   "cell_type": "markdown",
   "metadata": {},
   "source": [
    "Load volume into 3D Slicer to validate that your visualization is correct and get a feel for the shape of structures.Try to get a visualization like the one below (hint: while Slicer documentation is not particularly great, there are plenty of YouTube videos available! Just look it up on YouTube if you are not sure how to do something)\n",
    "\n",
    "![3D slicer](img/Slicer.png)"
   ]
  },
  {
   "cell_type": "code",
   "execution_count": 15,
   "metadata": {},
   "outputs": [],
   "source": [
    "# Stand out suggestion: use one of the simple Volume Rendering algorithms that we've\n",
    "# implemented in one of our earlier lessons to visualize some of these volumes"
   ]
  },
  {
   "cell_type": "markdown",
   "metadata": {},
   "source": [
    "## Looking at single image data\n",
    "In this section we will look closer at the NIFTI representation of our volumes. In order to measure the physical volume of hippocampi, we need to understand the relationship between the sizes of our voxels and the physical world."
   ]
  },
  {
   "cell_type": "code",
   "execution_count": 16,
   "metadata": {
    "scrolled": true
   },
   "outputs": [],
   "source": [
    "# Nibabel supports many imaging formats, NIFTI being just one of them. I told you that our images \n",
    "# are in NIFTI, but you should confirm if this is indeed the format that we are dealing with\n",
    "# TASK: using .header_class attribute - what is the format of our images?"
   ]
  },
  {
   "cell_type": "code",
   "execution_count": 17,
   "metadata": {},
   "outputs": [
    {
     "name": "stdout",
     "output_type": "stream",
     "text": [
      "Counter({<class 'nibabel.nifti1.Nifti1Header'>: 262})\n"
     ]
    }
   ],
   "source": [
    "image_headers = [image.header_class for image,_,_ in combined]\n",
    "counter = Counter(image_headers)\n",
    "print(counter)\n",
    "# yes they are all the same header"
   ]
  },
  {
   "cell_type": "markdown",
   "metadata": {},
   "source": [
    "Further down we will be inspecting .header attribute that provides access to NIFTI metadata. You can use this resource as a reference for various fields: https://brainder.org/2012/09/23/the-nifti-file-format/"
   ]
  },
  {
   "cell_type": "code",
   "execution_count": 18,
   "metadata": {},
   "outputs": [
    {
     "name": "stdout",
     "output_type": "stream",
     "text": [
      "Counter({'32': 207, '8': 55})\n"
     ]
    }
   ],
   "source": [
    "# TASK: How many bits per pixel are used?\n",
    "# Some have 8 bits and some 32 bits per pixel - should be alligned for model\n",
    "image_bitpix = [str(image.header.get('bitpix')) for image,_,_ in combined]\n",
    "counter = Counter(image_bitpix)\n",
    "print(counter)"
   ]
  },
  {
   "cell_type": "code",
   "execution_count": 19,
   "metadata": {},
   "outputs": [
    {
     "name": "stdout",
     "output_type": "stream",
     "text": [
      "[ 3 34 51 38  1  1  1  1]\n",
      "[1. 1. 1. 1. 1. 0. 0. 0.]\n",
      "10\n"
     ]
    }
   ],
   "source": [
    "# TASK: What are the units of measurement?\n",
    "print(image.header.get('dim'))\n",
    "print(image.header.get('pixdim'))\n",
    "print(image.header.get('xyzt_units'))\n",
    "# the ten referes to millimeters as spatial unit and second for temporal"
   ]
  },
  {
   "cell_type": "code",
   "execution_count": 20,
   "metadata": {},
   "outputs": [
    {
     "name": "stdout",
     "output_type": "stream",
     "text": [
      "Counter({'10': 262})\n"
     ]
    }
   ],
   "source": [
    "# all have millimeter and seconds\n",
    "image_unit = [str(image.header.get('xyzt_units')) for image,_,_ in combined]\n",
    "counter = Counter(image_unit)\n",
    "print(counter)"
   ]
  },
  {
   "cell_type": "code",
   "execution_count": 21,
   "metadata": {},
   "outputs": [
    {
     "name": "stdout",
     "output_type": "stream",
     "text": [
      "[1. 1. 1. 1. 1. 0. 0. 0.]\n"
     ]
    }
   ],
   "source": [
    "# TASK: Do we have a regular grid? What are grid spacings?\n",
    "print(image.header.get('pixdim'))\n",
    "# index 1 - 3 are the grid spacings for the three dimensions which seem like a regular grid"
   ]
  },
  {
   "cell_type": "code",
   "execution_count": 22,
   "metadata": {},
   "outputs": [
    {
     "name": "stdout",
     "output_type": "stream",
     "text": [
      "Counter({'[1. 1. 1. 1. 1. 0. 0. 0.]': 260, '[-1.        0.597656  0.597656  1.25      0.        0.        0.\\n  0.      ]': 1, '[1.       0.785156 0.785156 7.5      0.       0.       0.       0.      ]': 1})\n"
     ]
    }
   ],
   "source": [
    "# all have a regular grid except 2 \n",
    "image_grid = [str(image.header.get('pixdim')) for image,_,_ in combined]\n",
    "counter = Counter(image_grid)\n",
    "print(counter)"
   ]
  },
  {
   "cell_type": "code",
   "execution_count": 23,
   "metadata": {},
   "outputs": [],
   "source": [
    "# TASK: What dimensions represent axial, sagittal, and coronal slices? How do you know?\n",
    "# From the understanding of the lessons about the NIFTI standard I would say that for the dimensions x,y,z (0,1,2)\n",
    "# axial plane is x * y\n",
    "# coronal plane is x * z\n",
    "# saggital plane is y * z"
   ]
  },
  {
   "cell_type": "code",
   "execution_count": 24,
   "metadata": {},
   "outputs": [
    {
     "data": {
      "text/plain": [
       "3686"
      ]
     },
     "execution_count": 24,
     "metadata": {},
     "output_type": "execute_result"
    }
   ],
   "source": [
    "# By now you should have enough information to decide what are dimensions of a single voxel\n",
    "# TASK: Compute the volume (in mm³) of a hippocampus using one of the labels you've loaded. \n",
    "# You should get a number between ~2200 and ~4500\n",
    "# one voxel should be 1 mm³\n",
    "len(label_data[label_data>0])\n",
    "# so that should be 2948 mm³"
   ]
  },
  {
   "cell_type": "markdown",
   "metadata": {},
   "source": [
    "## Plotting some charts"
   ]
  },
  {
   "cell_type": "code",
   "execution_count": 25,
   "metadata": {},
   "outputs": [],
   "source": [
    "# TASK: Plot a histogram of all volumes that we have in our dataset and see how \n",
    "# our dataset measures against a slice of a normal population represented by the chart below."
   ]
  },
  {
   "cell_type": "code",
   "execution_count": 26,
   "metadata": {},
   "outputs": [],
   "source": [
    "volumes = { path: len(label.get_fdata()[label.get_fdata()>0]) for _, label, path in combined}\n"
   ]
  },
  {
   "cell_type": "code",
   "execution_count": 27,
   "metadata": {},
   "outputs": [
    {
     "data": {
      "text/plain": [
       "Text(0, 0.5, '# labels')"
      ]
     },
     "execution_count": 27,
     "metadata": {},
     "output_type": "execute_result"
    },
    {
     "data": {
      "image/png": "[encoded data removed]",
      "text/plain": [
       "<Figure size 432x288 with 1 Axes>"
      ]
     },
     "metadata": {
      "needs_background": "light"
     },
     "output_type": "display_data"
    }
   ],
   "source": [
    "plt.hist(volumes.values())\n",
    "plt.xlabel('volume')\n",
    "plt.ylabel('# labels')\n",
    "# there seem to be some outlier around a volume of 20k"
   ]
  },
  {
   "cell_type": "code",
   "execution_count": 28,
   "metadata": {},
   "outputs": [
    {
     "data": {
      "text/plain": [
       "[('hippocampus_281.nii.gz', 20702)]"
      ]
     },
     "execution_count": 28,
     "metadata": {},
     "output_type": "execute_result"
    }
   ],
   "source": [
    "outlier_high = [(file,vol) for file, vol in volumes.items() if vol>4600]\n",
    "outlier_high"
   ]
  },
  {
   "cell_type": "code",
   "execution_count": 29,
   "metadata": {},
   "outputs": [],
   "source": [
    "# investigate\n",
    "def show_slices(file, slice_index):\n",
    "    label_data = nib.load(file).get_fdata()\n",
    "    plt.imshow(label_data[slice_index,:,:], cmap=\"gray\")\n",
    "    plt.figure()\n",
    "    plt.imshow(label_data[:,slice_index,:], cmap=\"gray\")\n",
    "    plt.figure()\n",
    "    plt.imshow(label_data[:,:,slice_index], cmap=\"gray\")\n",
    "    print(label_data.max())\n",
    "    print(label_data.min())"
   ]
  },
  {
   "cell_type": "code",
   "execution_count": 30,
   "metadata": {},
   "outputs": [
    {
     "name": "stdout",
     "output_type": "stream",
     "text": [
      "1.0\n",
      "0.0\n"
     ]
    },
    {
     "data": {
      "image/png": "[encoded data removed]",
      "text/plain": [
       "<Figure size 432x288 with 1 Axes>"
      ]
     },
     "metadata": {
      "needs_background": "light"
     },
     "output_type": "display_data"
    },
    {
     "data": {
      "image/png": "[encoded data removed]",
      "text/plain": [
       "<Figure size 432x288 with 1 Axes>"
      ]
     },
     "metadata": {
      "needs_background": "light"
     },
     "output_type": "display_data"
    },
    {
     "data": {
      "image/png": "[encoded data removed]",
      "text/plain": [
       "<Figure size 432x288 with 1 Axes>"
      ]
     },
     "metadata": {
      "needs_background": "light"
     },
     "output_type": "display_data"
    }
   ],
   "source": [
    "show_slices(os.path.join(label_path,outlier_high[0][0]), 20)"
   ]
  },
  {
   "cell_type": "code",
   "execution_count": 31,
   "metadata": {},
   "outputs": [
    {
     "name": "stdout",
     "output_type": "stream",
     "text": [
      "1166.0\n",
      "-1024.0\n"
     ]
    },
    {
     "data": {
      "image/png": "[encoded data removed]",
      "text/plain": [
       "<Figure size 432x288 with 1 Axes>"
      ]
     },
     "metadata": {
      "needs_background": "light"
     },
     "output_type": "display_data"
    },
    {
     "data": {
      "image/png": "[encoded data removed]",
      "text/plain": [
       "<Figure size 432x288 with 1 Axes>"
      ]
     },
     "metadata": {
      "needs_background": "light"
     },
     "output_type": "display_data"
    },
    {
     "data": {
      "image/png": "[encoded data removed]",
      "text/plain": [
       "<Figure size 432x288 with 1 Axes>"
      ]
     },
     "metadata": {
      "needs_background": "light"
     },
     "output_type": "display_data"
    }
   ],
   "source": [
    "show_slices(os.path.join(image_path,outlier_high[0][0]), 20)"
   ]
  },
  {
   "cell_type": "markdown",
   "metadata": {},
   "source": [
    "This seems like to be an abdominal MRI. Also it has missmatching shape. "
   ]
  },
  {
   "cell_type": "code",
   "execution_count": 32,
   "metadata": {},
   "outputs": [
    {
     "data": {
      "text/plain": [
       "[((512, 512, 241), (36, 50, 31), 'hippocampus_010.nii.gz'),\n",
       " ((512, 512, 31), (512, 512, 94), 'hippocampus_281.nii.gz')]"
      ]
     },
     "execution_count": 32,
     "metadata": {},
     "output_type": "execute_result"
    }
   ],
   "source": [
    "# check if there are others with shape difference\n",
    "combined_shape_different = [(imshape, lbshape, path) for imshape, lbshape, path in combined_shape if imshape!=lbshape]\n",
    "combined_shape_different\n",
    "# 2 examples in total, where labels and image have different shape => should be removed"
   ]
  },
  {
   "cell_type": "code",
   "execution_count": 33,
   "metadata": {},
   "outputs": [
    {
     "data": {
      "text/plain": [
       "260"
      ]
     },
     "execution_count": 33,
     "metadata": {},
     "output_type": "execute_result"
    }
   ],
   "source": [
    "# remove examples with shape difference - gives 260 as expected\n",
    "combined_clean = [(image,label, path) for image, label, path in combined if image.shape == label.shape]\n",
    "len(combined_clean)"
   ]
  },
  {
   "cell_type": "markdown",
   "metadata": {},
   "source": [
    "<img src=\"img/nomogram_fem_right.svg\" width=400 align=left>"
   ]
  },
  {
   "cell_type": "markdown",
   "metadata": {},
   "source": [
    "Do you see any outliers? Why do you think it's so (might be not immediately obvious, but it's always a good idea to inspect) outliers closer. If you haven't found the images that do not belong, the histogram may help you."
   ]
  },
  {
   "cell_type": "markdown",
   "metadata": {},
   "source": [
    "In the real world we would have precise information about the ages and conditions of our patients, and understanding how our dataset measures against population norm would be the integral part of clinical validation that we talked about in last lesson. Unfortunately, we do not have this information about this dataset, so we can only guess why it measures the way it is. If you would like to explore further, you can use the [calculator from HippoFit project](http://www.smanohar.com/biobank/calculator.html) to see how our dataset compares against different population slices"
   ]
  },
  {
   "cell_type": "markdown",
   "metadata": {},
   "source": [
    "Did you notice anything odd about the label files? We hope you did! The mask seems to have two classes, labeled with values `1` and `2` respectively. If you visualized sagittal or axial views, you might have gotten a good guess of what those are. Class 1 is the anterior segment of the hippocampus and class 2 is the posterior one. \n",
    "\n",
    "For the purpose of volume calculation we do not care about the distinction, however we will still train our network to differentiate between these two classes and the background"
   ]
  },
  {
   "cell_type": "code",
   "execution_count": 34,
   "metadata": {},
   "outputs": [],
   "source": [
    "# TASK: Copy the clean dataset to the output folder inside section1/out. You will use it in the next Section\n",
    "image_path_target = 'out/TrainingSet/images/'\n",
    "label_path_target = 'out/TrainingSet/labels/'\n",
    "os.makedirs(image_path_target, exist_ok=True)\n",
    "os.makedirs(label_path_target, exist_ok=True)\n",
    "\n",
    "for _, _, fname in combined_clean:\n",
    "    shutil.copyfile(f'{image_path}{fname}', f'{image_path_target}{fname}')\n",
    "    shutil.copyfile(f'{label_path}{fname}', f'{label_path_target}{fname}')"
   ]
  },
  {
   "cell_type": "markdown",
   "metadata": {},
   "source": [
    "## Final remarks\n",
    "\n",
    "Congratulations! You have finished Section 1. \n",
    "\n",
    "In this section you have inspected a dataset of MRI scans and related segmentations, represented as NIFTI files. We have visualized some slices, and understood the layout of the data. We have inspected file headers to understand what how the image dimensions relate to the physical world and we have understood how to measure our volume. We have then inspected dataset for outliers, and have created a clean set that is ready for consumption by our ML algorithm. \n",
    "\n",
    "In the next section you will create training and testing pipelines for a UNet-based machine learning model, run and monitor the execution, and will produce test metrics. This will arm you with all you need to use the model in the clinical context and reason about its performance!"
   ]
  }
 ],
 "metadata": {
  "kernelspec": {
   "display_name": "Python 3",
   "language": "python",
   "name": "python3"
  },
  "language_info": {
   "codemirror_mode": {
    "name": "ipython",
    "version": 3
   },
   "file_extension": ".py",
   "mimetype": "text/x-python",
   "name": "python",
   "nbconvert_exporter": "python",
   "pygments_lexer": "ipython3",
   "version": "3.8.5"
  }
 },
 "nbformat": 4,
 "nbformat_minor": 2
}
